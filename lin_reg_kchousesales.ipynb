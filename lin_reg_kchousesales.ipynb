{
 "cells": [
  {
   "cell_type": "code",
   "execution_count": null,
   "metadata": {},
   "outputs": [],
   "source": [
    "import pandas as pd\n",
    "import numpy as np\n",
    "from sklearn.model_selection import train_test_split\n",
    "\n",
    "from sklearn.linear_model import LinearRegression\n",
    "\n",
    "from sklearn.model_selection import cross_val_score\n",
    "from sklearn.metrics import r2_score\n"
   ]
  },
  {
   "cell_type": "code",
   "execution_count": 17,
   "metadata": {},
   "outputs": [],
   "source": [
    "data=pd.read_csv('scaled_houseKC.csv')"
   ]
  },
  {
   "cell_type": "code",
   "execution_count": 18,
   "metadata": {},
   "outputs": [
    {
     "data": {
      "text/html": [
       "<div>\n",
       "<style scoped>\n",
       "    .dataframe tbody tr th:only-of-type {\n",
       "        vertical-align: middle;\n",
       "    }\n",
       "\n",
       "    .dataframe tbody tr th {\n",
       "        vertical-align: top;\n",
       "    }\n",
       "\n",
       "    .dataframe thead th {\n",
       "        text-align: right;\n",
       "    }\n",
       "</style>\n",
       "<table border=\"1\" class=\"dataframe\">\n",
       "  <thead>\n",
       "    <tr style=\"text-align: right;\">\n",
       "      <th></th>\n",
       "      <th>Unnamed: 0</th>\n",
       "      <th>price</th>\n",
       "      <th>bedrooms</th>\n",
       "      <th>bathrooms</th>\n",
       "      <th>sqft_living</th>\n",
       "      <th>sqft_lot</th>\n",
       "      <th>floors</th>\n",
       "      <th>waterfront</th>\n",
       "      <th>view</th>\n",
       "      <th>condition</th>\n",
       "      <th>...</th>\n",
       "      <th>sqft_basement</th>\n",
       "      <th>yr_built</th>\n",
       "      <th>yr_renovated</th>\n",
       "      <th>zipcode</th>\n",
       "      <th>lat</th>\n",
       "      <th>long</th>\n",
       "      <th>sqft_living15</th>\n",
       "      <th>sqft_lot15</th>\n",
       "      <th>date_year</th>\n",
       "      <th>Year old</th>\n",
       "    </tr>\n",
       "  </thead>\n",
       "  <tbody>\n",
       "    <tr>\n",
       "      <td>0</td>\n",
       "      <td>0</td>\n",
       "      <td>12.309982</td>\n",
       "      <td>-0.398917</td>\n",
       "      <td>-1.447423</td>\n",
       "      <td>-1.123281</td>\n",
       "      <td>-0.228413</td>\n",
       "      <td>-0.915142</td>\n",
       "      <td>-0.087197</td>\n",
       "      <td>-0.305768</td>\n",
       "      <td>-0.629431</td>\n",
       "      <td>...</td>\n",
       "      <td>-0.658614</td>\n",
       "      <td>-0.544254</td>\n",
       "      <td>-0.159374</td>\n",
       "      <td>1.870664</td>\n",
       "      <td>-0.352203</td>\n",
       "      <td>-0.306416</td>\n",
       "      <td>-1.035161</td>\n",
       "      <td>-0.260796</td>\n",
       "      <td>-0.690938</td>\n",
       "      <td>0.533216</td>\n",
       "    </tr>\n",
       "    <tr>\n",
       "      <td>1</td>\n",
       "      <td>1</td>\n",
       "      <td>13.195614</td>\n",
       "      <td>-0.398917</td>\n",
       "      <td>0.175846</td>\n",
       "      <td>0.709476</td>\n",
       "      <td>-0.189987</td>\n",
       "      <td>0.937875</td>\n",
       "      <td>-0.087197</td>\n",
       "      <td>-0.305768</td>\n",
       "      <td>-0.629431</td>\n",
       "      <td>...</td>\n",
       "      <td>0.245158</td>\n",
       "      <td>-0.680482</td>\n",
       "      <td>4.537819</td>\n",
       "      <td>0.880042</td>\n",
       "      <td>1.161735</td>\n",
       "      <td>-0.746632</td>\n",
       "      <td>-0.326688</td>\n",
       "      <td>-0.187967</td>\n",
       "      <td>-0.690938</td>\n",
       "      <td>0.669435</td>\n",
       "    </tr>\n",
       "    <tr>\n",
       "      <td>2</td>\n",
       "      <td>2</td>\n",
       "      <td>12.100712</td>\n",
       "      <td>-1.474428</td>\n",
       "      <td>-1.447423</td>\n",
       "      <td>-2.128388</td>\n",
       "      <td>-0.123417</td>\n",
       "      <td>-0.915142</td>\n",
       "      <td>-0.087197</td>\n",
       "      <td>-0.305768</td>\n",
       "      <td>-0.629431</td>\n",
       "      <td>...</td>\n",
       "      <td>-0.658614</td>\n",
       "      <td>-1.293507</td>\n",
       "      <td>-0.159374</td>\n",
       "      <td>-0.932983</td>\n",
       "      <td>1.283687</td>\n",
       "      <td>-0.136010</td>\n",
       "      <td>1.126239</td>\n",
       "      <td>-0.172478</td>\n",
       "      <td>1.447308</td>\n",
       "      <td>1.316478</td>\n",
       "    </tr>\n",
       "    <tr>\n",
       "      <td>3</td>\n",
       "      <td>3</td>\n",
       "      <td>13.311329</td>\n",
       "      <td>0.676595</td>\n",
       "      <td>1.149808</td>\n",
       "      <td>0.071485</td>\n",
       "      <td>-0.244102</td>\n",
       "      <td>-0.915142</td>\n",
       "      <td>-0.087197</td>\n",
       "      <td>-0.305768</td>\n",
       "      <td>2.443535</td>\n",
       "      <td>...</td>\n",
       "      <td>1.397468</td>\n",
       "      <td>-0.203684</td>\n",
       "      <td>-0.159374</td>\n",
       "      <td>1.085643</td>\n",
       "      <td>-0.282928</td>\n",
       "      <td>-1.272051</td>\n",
       "      <td>-0.989931</td>\n",
       "      <td>-0.284597</td>\n",
       "      <td>-0.690938</td>\n",
       "      <td>0.192667</td>\n",
       "    </tr>\n",
       "    <tr>\n",
       "      <td>4</td>\n",
       "      <td>4</td>\n",
       "      <td>13.142166</td>\n",
       "      <td>-0.398917</td>\n",
       "      <td>-0.148808</td>\n",
       "      <td>-0.291469</td>\n",
       "      <td>-0.169760</td>\n",
       "      <td>-0.915142</td>\n",
       "      <td>-0.087197</td>\n",
       "      <td>-0.305768</td>\n",
       "      <td>-0.629431</td>\n",
       "      <td>...</td>\n",
       "      <td>-0.658614</td>\n",
       "      <td>0.545569</td>\n",
       "      <td>-0.159374</td>\n",
       "      <td>-0.073198</td>\n",
       "      <td>0.409817</td>\n",
       "      <td>1.198839</td>\n",
       "      <td>-0.134172</td>\n",
       "      <td>-0.192947</td>\n",
       "      <td>1.447308</td>\n",
       "      <td>-0.522485</td>\n",
       "    </tr>\n",
       "  </tbody>\n",
       "</table>\n",
       "<p>5 rows × 22 columns</p>\n",
       "</div>"
      ],
      "text/plain": [
       "   Unnamed: 0      price  bedrooms  bathrooms  sqft_living  sqft_lot  \\\n",
       "0           0  12.309982 -0.398917  -1.447423    -1.123281 -0.228413   \n",
       "1           1  13.195614 -0.398917   0.175846     0.709476 -0.189987   \n",
       "2           2  12.100712 -1.474428  -1.447423    -2.128388 -0.123417   \n",
       "3           3  13.311329  0.676595   1.149808     0.071485 -0.244102   \n",
       "4           4  13.142166 -0.398917  -0.148808    -0.291469 -0.169760   \n",
       "\n",
       "     floors  waterfront      view  condition  ...  sqft_basement  yr_built  \\\n",
       "0 -0.915142   -0.087197 -0.305768  -0.629431  ...      -0.658614 -0.544254   \n",
       "1  0.937875   -0.087197 -0.305768  -0.629431  ...       0.245158 -0.680482   \n",
       "2 -0.915142   -0.087197 -0.305768  -0.629431  ...      -0.658614 -1.293507   \n",
       "3 -0.915142   -0.087197 -0.305768   2.443535  ...       1.397468 -0.203684   \n",
       "4 -0.915142   -0.087197 -0.305768  -0.629431  ...      -0.658614  0.545569   \n",
       "\n",
       "   yr_renovated   zipcode       lat      long  sqft_living15  sqft_lot15  \\\n",
       "0     -0.159374  1.870664 -0.352203 -0.306416      -1.035161   -0.260796   \n",
       "1      4.537819  0.880042  1.161735 -0.746632      -0.326688   -0.187967   \n",
       "2     -0.159374 -0.932983  1.283687 -0.136010       1.126239   -0.172478   \n",
       "3     -0.159374  1.085643 -0.282928 -1.272051      -0.989931   -0.284597   \n",
       "4     -0.159374 -0.073198  0.409817  1.198839      -0.134172   -0.192947   \n",
       "\n",
       "   date_year  Year old  \n",
       "0  -0.690938  0.533216  \n",
       "1  -0.690938  0.669435  \n",
       "2   1.447308  1.316478  \n",
       "3  -0.690938  0.192667  \n",
       "4   1.447308 -0.522485  \n",
       "\n",
       "[5 rows x 22 columns]"
      ]
     },
     "execution_count": 18,
     "metadata": {},
     "output_type": "execute_result"
    }
   ],
   "source": [
    "data.head()"
   ]
  },
  {
   "cell_type": "code",
   "execution_count": 19,
   "metadata": {},
   "outputs": [],
   "source": [
    "data=data.drop(columns='Unnamed: 0')\n"
   ]
  },
  {
   "cell_type": "code",
   "execution_count": 20,
   "metadata": {},
   "outputs": [
    {
     "name": "stdout",
     "output_type": "stream",
     "text": [
      "r2 score: 0.77\n",
      "train score:0.77\n",
      "test score:0.77\n"
     ]
    },
    {
     "data": {
      "text/plain": [
       "0.7701379013197762"
      ]
     },
     "execution_count": 20,
     "metadata": {},
     "output_type": "execute_result"
    }
   ],
   "source": [
    "X_scaled=data.iloc[:,1:]\n",
    "Y=data['price']\n",
    "\n",
    "x_train,x_test,y_train,y_test=train_test_split(X_scaled,Y,test_size=0.25)\n",
    "\n",
    "\n",
    "lr=LinearRegression()\n",
    "lr.fit(x_train,y_train)\n",
    "y_pred=lr.predict(x_test)\n",
    "scores=cross_val_score(lr,X_scaled,Y,cv=5)\n",
    "print('r2 score: %.2f'%(r2_score(y_test,y_pred)))\n",
    "print('train score:%.2f'%(lr.score(x_train,y_train)))\n",
    "print('test score:%.2f'%(lr.score(x_test,y_test)))\n",
    "scores.mean()"
   ]
  },
  {
   "cell_type": "code",
   "execution_count": 21,
   "metadata": {},
   "outputs": [
    {
     "name": "stdout",
     "output_type": "stream",
     "text": [
      "r2 score: 0.82\n",
      "train score:0.83\n",
      "test score:0.82\n",
      "cross val score 0.8231\n"
     ]
    }
   ],
   "source": [
    "##Using Polynomial Regression Technique to transform the training data and \n",
    "##then using Linear Regression regression for regularization\n",
    "\n",
    "from sklearn.preprocessing import PolynomialFeatures\n",
    "from sklearn.linear_model import Ridge\n",
    "\n",
    "poly=PolynomialFeatures(degree=2)\n",
    "X_poly=poly.fit_transform(X_scaled)\n",
    "\n",
    "x_train,x_test,y_train,y_test=train_test_split(X_poly,Y,test_size=0.25)\n",
    "\n",
    "\n",
    "lr=LinearRegression()\n",
    "\n",
    "\n",
    "lr.fit(x_train,y_train)\n",
    "y_pred=lr.predict(x_test)\n",
    "scores=cross_val_score(lr,X_poly,Y,cv=5)\n",
    "print('r2 score: %.2f'%(r2_score(y_test,y_pred)))\n",
    "print('train score:%.2f'%(lr.score(x_train,y_train)))\n",
    "print('test score:%.2f'%(lr.score(x_test,y_test)))\n",
    "print('cross val score %.4f'%scores.mean())"
   ]
  },
  {
   "cell_type": "code",
   "execution_count": 22,
   "metadata": {},
   "outputs": [
    {
     "name": "stdout",
     "output_type": "stream",
     "text": [
      "r2 score: 0.83\n",
      "train score:0.83\n",
      "test score:0.83\n"
     ]
    },
    {
     "data": {
      "text/plain": [
       "0.8231607094405042"
      ]
     },
     "execution_count": 22,
     "metadata": {},
     "output_type": "execute_result"
    }
   ],
   "source": [
    "## Using Ridge Regression\n",
    "\n",
    "lr=Ridge(alpha=0.1)\n",
    "\n",
    "poly=PolynomialFeatures(degree=2)\n",
    "X_poly=poly.fit_transform(X_scaled)\n",
    "\n",
    "x_train,x_test,y_train,y_test=train_test_split(X_poly,Y,test_size=0.25)\n",
    "lr.fit(x_train,y_train)\n",
    "y_pred=lr.predict(x_test)\n",
    "scores=cross_val_score(lr,X_poly,Y,cv=5)\n",
    "print('r2 score: %.2f'%(r2_score(y_test,y_pred)))\n",
    "print('train score:%.2f'%(lr.score(x_train,y_train)))\n",
    "print('test score:%.2f'%(lr.score(x_test,y_test)))\n",
    "scores.mean()"
   ]
  },
  {
   "cell_type": "code",
   "execution_count": 23,
   "metadata": {},
   "outputs": [
    {
     "name": "stderr",
     "output_type": "stream",
     "text": [
      "C:\\Users\\mahewash\\Anaconda3\\lib\\site-packages\\sklearn\\linear_model\\coordinate_descent.py:475: ConvergenceWarning: Objective did not converge. You might want to increase the number of iterations. Duality gap: 0.6520794402804313, tolerance: 0.4745508825076706\n",
      "  positive)\n"
     ]
    },
    {
     "name": "stdout",
     "output_type": "stream",
     "text": [
      "r2 score: 0.81\n",
      "train score:0.81\n",
      "test score:0.81\n"
     ]
    },
    {
     "data": {
      "text/plain": [
       "0.8098536332392525"
      ]
     },
     "execution_count": 23,
     "metadata": {},
     "output_type": "execute_result"
    }
   ],
   "source": [
    "## using Lasso Regression\n",
    "\n",
    "\n",
    "from sklearn.linear_model import  Lasso\n",
    "poly=PolynomialFeatures(degree=2)\n",
    "X_poly=poly.fit_transform(X_scaled)\n",
    "\n",
    "x_train,x_test,y_train,y_test=train_test_split(X_poly,Y,test_size=0.25)\n",
    "lr=Lasso(alpha=0.009)\n",
    "\n",
    "\n",
    "lr.fit(x_train,y_train)\n",
    "y_pred=lr.predict(x_test)\n",
    "scores=cross_val_score(lr,X_poly,Y,cv=5)\n",
    "print('r2 score: %.2f'%(r2_score(y_test,y_pred)))\n",
    "print('train score:%.2f'%(lr.score(x_train,y_train)))\n",
    "print('test score:%.2f'%(lr.score(x_test,y_test)))\n",
    "scores.mean()"
   ]
  },
  {
   "cell_type": "code",
   "execution_count": 24,
   "metadata": {},
   "outputs": [
    {
     "data": {
      "text/plain": [
       "GridSearchCV(cv=5, error_score='raise-deprecating',\n",
       "             estimator=Pipeline(memory=None,\n",
       "                                steps=[('polynomialfeatures',\n",
       "                                        PolynomialFeatures(degree=2,\n",
       "                                                           include_bias=True,\n",
       "                                                           interaction_only=False,\n",
       "                                                           order='C')),\n",
       "                                       ('ridge',\n",
       "                                        Ridge(alpha=1.0, copy_X=True,\n",
       "                                              fit_intercept=True, max_iter=None,\n",
       "                                              normalize=False,\n",
       "                                              random_state=None, solver='auto',\n",
       "                                              tol=0.001))],\n",
       "                                verbose=False),\n",
       "             iid='warn', n_jobs=None,\n",
       "             param_grid={'polynomialfeatures__degree': [1, 2, 3],\n",
       "                         'ridge__alpha': [0.1, 10, 11, 12, 12.5, 15]},\n",
       "             pre_dispatch='2*n_jobs', refit=True, return_train_score=False,\n",
       "             scoring=None, verbose=0)"
      ]
     },
     "execution_count": 24,
     "metadata": {},
     "output_type": "execute_result"
    }
   ],
   "source": [
    "## Making pipeline to perform polynomial features and ridge regresson\n",
    "# using GridSearchCV to search the best parameter \n",
    "\n",
    "from sklearn.pipeline import make_pipeline\n",
    "from sklearn.model_selection import GridSearchCV\n",
    "from sklearn.decomposition import PCA\n",
    "\n",
    "x_train,x_test,y_train,y_test=train_test_split(X_scaled,Y,test_size=0.25)\n",
    "\n",
    "pipe=make_pipeline(PolynomialFeatures(),\n",
    "                  \n",
    "                  Ridge())\n",
    "\n",
    "param={'polynomialfeatures__degree':[1,2,3],\n",
    "           'ridge__alpha':[0.1,10,11,12,12.5,15]}\n",
    "\n",
    "grid=GridSearchCV(pipe,param,cv=5)\n",
    "\n",
    "grid.fit(x_train,y_train)"
   ]
  },
  {
   "cell_type": "code",
   "execution_count": 25,
   "metadata": {},
   "outputs": [
    {
     "name": "stdout",
     "output_type": "stream",
     "text": [
      "{'polynomialfeatures__degree': 2, 'ridge__alpha': 15}\n"
     ]
    }
   ],
   "source": [
    "print(grid.best_params_)"
   ]
  },
  {
   "cell_type": "code",
   "execution_count": 26,
   "metadata": {},
   "outputs": [
    {
     "data": {
      "text/plain": [
       "0.8203997726460067"
      ]
     },
     "execution_count": 26,
     "metadata": {},
     "output_type": "execute_result"
    }
   ],
   "source": [
    "grid.score(x_test,y_test)"
   ]
  },
  {
   "cell_type": "markdown",
   "metadata": {},
   "source": []
  }
 ],
 "metadata": {
  "kernelspec": {
   "display_name": "Python 3",
   "language": "python",
   "name": "python3"
  },
  "language_info": {
   "codemirror_mode": {
    "name": "ipython",
    "version": 3
   },
   "file_extension": ".py",
   "mimetype": "text/x-python",
   "name": "python",
   "nbconvert_exporter": "python",
   "pygments_lexer": "ipython3",
   "version": "3.7.4"
  }
 },
 "nbformat": 4,
 "nbformat_minor": 2
}
